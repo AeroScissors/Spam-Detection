{
 "cells": [
  {
   "cell_type": "code",
   "execution_count": null,
   "id": "0f68e3ee-b66e-47cd-ad0c-626ef1b29802",
   "metadata": {},
   "outputs": [],
   "source": [
    "import pandas as pd\n",
    "import nltk\n",
    "from nltk.corpus import stopwords\n",
    "import string\n",
    "from sklearn.feature_extraction.text import TfidfVectorizer\n",
    "from sklearn.model_selection import train_test_split\n",
    "from sklearn.naive_bayes import MultinomialNB\n",
    "from sklearn.metrics import accuracy_score, classification_report\n",
    "from bs4 import BeautifulSoup  # Import BeautifulSoup\n",
    "import numpy as np  # Import numpy for NaN handling\n",
    "from flask import Flask, render_template\n",
    "import matplotlib.pyplot as plt\n",
    "import seaborn as sns\n"
   ]
  },
  {
   "cell_type": "code",
   "execution_count": null,
   "id": "b8db3155-3422-4277-ad38-22d13be02de4",
   "metadata": {},
   "outputs": [],
   "source": [
    "# Load the dataset\n",
    "df = pd.read_csv(\"Emails dataset.csv\")"
   ]
  },
  {
   "cell_type": "code",
   "execution_count": null,
   "id": "fdd98bf7-1bb7-43c7-8b91-aa7657cc0b49",
   "metadata": {},
   "outputs": [],
   "source": [
    "# Remove the unnamed index column\n",
    "df = df.drop(df.columns[0], axis=1)"
   ]
  },
  {
   "cell_type": "code",
   "execution_count": null,
   "id": "7d23c538-d760-4f2a-8655-fbea6cff1f21",
   "metadata": {},
   "outputs": [],
   "source": [
    "# Explore the data\n",
    "print(df.head())\n",
    "print(df.info())\n",
    "print(df['Spam/Ham'].value_counts()) # Check the distribution of spam and ham"
   ]
  },
  {
   "cell_type": "code",
   "execution_count": null,
   "id": "dc1b5c77-0e2d-4b84-bcc5-4baef0f49346",
   "metadata": {},
   "outputs": [],
   "source": [
    "# Convert text to lowercase\n",
    "df['Message'] = df['Message'].str.lower()\n",
    "df['Subject'] = df['Subject'].str.lower()"
   ]
  },
  {
   "cell_type": "code",
   "execution_count": null,
   "id": "b849c1d0-96b4-4bcf-b5c4-65ea95fdf0cb",
   "metadata": {},
   "outputs": [],
   "source": [
    "def remove_html(text):\n",
    "    if isinstance(text, str):\n",
    "        soup = BeautifulSoup(text, 'html.parser')\n",
    "        return soup.get_text()\n",
    "    return text\n",
    "\n",
    "def remove_punctuation(text):\n",
    "    if isinstance(text, str):\n",
    "        PUNCT_TO_REMOVE = string.punctuation\n",
    "        return text.translate(str.maketrans('', '', PUNCT_TO_REMOVE))\n",
    "    return text\n",
    "\n",
    "def remove_stopwords(text):\n",
    "    if isinstance(text, str):\n",
    "        STOPWORDS = set(stopwords.words('english'))\n",
    "        return \" \".join([word for word in str(text).split() if word not in STOPWORDS])\n",
    "    return text\n",
    "\n",
    "df['Message'] = df['Message'].apply(remove_html)\n",
    "df['Subject'] = df['Subject'].apply(remove_html)\n",
    "\n",
    "df['Message'] = df['Message'].apply(remove_punctuation)\n",
    "df['Subject'] = df['Subject'].apply(remove_punctuation)\n",
    "\n",
    "df['Message'] = df['Message'].apply(remove_stopwords)\n",
    "df['Subject'] = df['Subject'].apply(remove_stopwords)\n",
    "\n",
    "# Handling Missing Values (NaNs) - Corrected:\n",
    "df['Message'] = df['Message'].replace('', np.nan)  # Correct way to replace\n",
    "df['Subject'] = df['Subject'].replace('', np.nan)  # Correct way to replace\n",
    "\n",
    "df.dropna(subset=['Message', 'Subject'], inplace=True)  # Drop rows with NaN"
   ]
  },
  {
   "cell_type": "code",
   "execution_count": null,
   "id": "1d211288-6e49-4300-947a-8f2cab54832d",
   "metadata": {},
   "outputs": [],
   "source": [
    "# Combine Subject and Message for feature extraction\n",
    "df['Combined'] = df['Subject'] + ' ' + df['Message']\n",
    "\n",
    "vectorizer = TfidfVectorizer()\n",
    "X = vectorizer.fit_transform(df['Combined'])\n",
    "y = df['Spam/Ham'] # Target variable"
   ]
  },
  {
   "cell_type": "code",
   "execution_count": null,
   "id": "b076bc87-344e-4a41-ac26-9d7f314091d7",
   "metadata": {},
   "outputs": [],
   "source": [
    "X_train, X_test, y_train, y_test = train_test_split(X, y, test_size=0.2, random_state=42) # Split data\n",
    "\n",
    "model = MultinomialNB()\n",
    "model.fit(X_train, y_train)\n",
    "\n",
    "y_pred = model.predict(X_test)\n",
    "\n",
    "print(\"Accuracy:\", accuracy_score(y_test, y_pred))\n",
    "print(classification_report(y_test, y_pred))"
   ]
  },
  {
   "cell_type": "code",
   "execution_count": null,
   "id": "a7692be2-67ce-4fbd-a88e-66b079c5f270",
   "metadata": {},
   "outputs": [],
   "source": [
    "# 1. Spam vs. Ham Emails (Count Plot)\n",
    "plt.figure(figsize=(6, 4))\n",
    "sns.countplot(x='Spam/Ham', data=df)\n",
    "plt.title('Spam vs. Ham Emails')\n",
    "plt.xlabel('Email Type')\n",
    "plt.ylabel('Count')\n",
    "plt.savefig(\"spam_vs_ham.png\")\n",
    "plt.show()"
   ]
  },
  {
   "cell_type": "code",
   "execution_count": null,
   "id": "6c94ad37-ab32-4a6f-ab37-a204f5ce0e51",
   "metadata": {},
   "outputs": [],
   "source": [
    "# 2. Distribution of Email Lengths\n",
    "df['message_length'] = df['Message'].str.len() #Use df instead of email_df\n",
    "plt.figure(figsize=(8, 6))\n",
    "sns.histplot(df['message_length'], kde=True) #Use df instead of email_df\n",
    "plt.title('Distribution of Email Lengths')\n",
    "plt.xlabel('Email Length')\n",
    "plt.ylabel('Frequency')\n",
    "plt.savefig(\"email_length_distribution.png\")\n",
    "plt.show()"
   ]
  },
  {
   "cell_type": "code",
   "execution_count": null,
   "id": "dbfbf5eb-0e12-4786-abdf-4910e22952b7",
   "metadata": {},
   "outputs": [],
   "source": [
    "# 3. Subject Length Distribution\n",
    "df['subject_length'] = df['Subject'].str.len() #Use df instead of email_df\n",
    "plt.figure(figsize=(8, 6))\n",
    "sns.histplot(df['subject_length'], kde=True) #Use df instead of email_df\n",
    "plt.title('Distribution of Subject Lengths')\n",
    "plt.xlabel('Subject Length')\n",
    "plt.ylabel('Frequency')\n",
    "plt.savefig(\"subject_length_distribution.png\")\n",
    "plt.show()\n"
   ]
  }
 ],
 "metadata": {
  "kernelspec": {
   "display_name": "Python 3 (ipykernel)",
   "language": "python",
   "name": "python3"
  },
  "language_info": {
   "codemirror_mode": {
    "name": "ipython",
    "version": 3
   },
   "file_extension": ".py",
   "mimetype": "text/x-python",
   "name": "python",
   "nbconvert_exporter": "python",
   "pygments_lexer": "ipython3",
   "version": "3.13.1"
  }
 },
 "nbformat": 4,
 "nbformat_minor": 5
}
